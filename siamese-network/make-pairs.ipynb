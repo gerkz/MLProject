{
 "cells": [
  {
   "cell_type": "code",
   "execution_count": 1,
   "id": "3a249ad6",
   "metadata": {
    "_cell_guid": "b1076dfc-b9ad-4769-8c92-a6c4dae69d19",
    "_uuid": "8f2839f25d086af736a60e9eeb907d3b93b6e0e5",
    "execution": {
     "iopub.execute_input": "2024-02-11T23:26:07.511134Z",
     "iopub.status.busy": "2024-02-11T23:26:07.510614Z",
     "iopub.status.idle": "2024-02-11T23:26:07.777874Z",
     "shell.execute_reply": "2024-02-11T23:26:07.776612Z"
    },
    "papermill": {
     "duration": 0.276355,
     "end_time": "2024-02-11T23:26:07.780958",
     "exception": false,
     "start_time": "2024-02-11T23:26:07.504603",
     "status": "completed"
    },
    "tags": []
   },
   "outputs": [],
   "source": [
    "import numpy as np\n",
    "import random\n",
    "import os\n",
    "import cv2\n",
    "import itertools\n",
    "import matplotlib.pyplot as plt"
   ]
  },
  {
   "cell_type": "markdown",
   "id": "e8642609",
   "metadata": {},
   "source": [
    "# Preprocessing the Real Signature Dataset"
   ]
  },
  {
   "cell_type": "code",
   "execution_count": 4,
   "id": "36766906",
   "metadata": {
    "execution": {
     "iopub.execute_input": "2024-02-11T23:26:07.790498Z",
     "iopub.status.busy": "2024-02-11T23:26:07.790044Z",
     "iopub.status.idle": "2024-02-11T23:26:07.795403Z",
     "shell.execute_reply": "2024-02-11T23:26:07.794228Z"
    },
    "papermill": {
     "duration": 0.012915,
     "end_time": "2024-02-11T23:26:07.797928",
     "exception": false,
     "start_time": "2024-02-11T23:26:07.785013",
     "status": "completed"
    },
    "tags": []
   },
   "outputs": [],
   "source": [
    "width = 200\n",
    "height = 150\n",
    "num_sig = 11"
   ]
  },
  {
   "cell_type": "code",
   "execution_count": 5,
   "id": "19e5148a",
   "metadata": {
    "execution": {
     "iopub.execute_input": "2024-02-11T23:26:07.807535Z",
     "iopub.status.busy": "2024-02-11T23:26:07.806866Z",
     "iopub.status.idle": "2024-02-11T23:26:07.820320Z",
     "shell.execute_reply": "2024-02-11T23:26:07.819106Z"
    },
    "papermill": {
     "duration": 0.021161,
     "end_time": "2024-02-11T23:26:07.822945",
     "exception": false,
     "start_time": "2024-02-11T23:26:07.801784",
     "status": "completed"
    },
    "tags": []
   },
   "outputs": [],
   "source": [
    "def make_pairs(genuine, forged):\n",
    "\n",
    "    #create (genuine, genuine) pairs\n",
    "    gen_gen_pairs = []\n",
    "    for t in itertools.combinations(genuine, 2):\n",
    "        gen_gen_pairs.append([t[0], t[1]])\n",
    "\n",
    "    #create (genuine, forged) pairs\n",
    "    gen_forg_pairs_temp = []\n",
    "    for t in itertools.product(genuine, forged):\n",
    "        gen_forg_pairs_temp.append([t[0], t[1]])\n",
    "\n",
    "    gen_gen_pairs = np.array(gen_gen_pairs)\n",
    "    gen_forg_pairs_temp = np.array(gen_forg_pairs_temp)\n",
    "\n",
    "    # pick the same number of (genuine, forged) pairs as the (genuine, genuine)\n",
    "    # ones in order to balance the data\n",
    "    gen_forg_indices = random.sample(range(1, gen_forg_pairs_temp.shape[0]), gen_gen_pairs.shape[0])\n",
    "\n",
    "    gen_forg_pairs = []\n",
    "    for ind in gen_forg_indices:\n",
    "        gen_forg_pairs.append(gen_forg_pairs_temp[ind])\n",
    "\n",
    "    gen_forg_pairs = np.array(gen_forg_pairs)\n",
    "\n",
    "    return gen_gen_pairs, gen_forg_pairs\n",
    "\n",
    "\n",
    "def prepare_data(genuine, forged, X, y):\n",
    "\n",
    "    gen_gen_pairs, gen_forg_pairs = make_pairs(genuine, forged)\n",
    "    all_pairs = np.empty((552, 2, width, height))\n",
    "    all_pairs = np.concatenate((gen_gen_pairs, gen_forg_pairs), axis = 0)\n",
    "    print(f\"All pairs shape: {all_pairs.shape}\")\n",
    "    labels = np.concatenate((np.ones(gen_gen_pairs.shape[0]), np.zeros(gen_forg_pairs.shape[0])), axis = 0)\n",
    "    print(f\"Labels shape: {labels.shape}\")\n",
    "    \n",
    "    combined = list(zip(all_pairs, labels))\n",
    "    random.shuffle(combined)\n",
    "    shuffled_pairs, shuffled_labels = zip(*combined)\n",
    "    \n",
    "    X[:] = shuffled_pairs\n",
    "    y[:] = shuffled_labels"
   ]
  },
  {
   "cell_type": "code",
   "execution_count": null,
   "id": "9653b6ca",
   "metadata": {
    "execution": {
     "iopub.execute_input": "2024-02-11T23:26:07.832873Z",
     "iopub.status.busy": "2024-02-11T23:26:07.832433Z",
     "iopub.status.idle": "2024-02-11T23:26:07.837606Z",
     "shell.execute_reply": "2024-02-11T23:26:07.836414Z"
    },
    "papermill": {
     "duration": 0.013195,
     "end_time": "2024-02-11T23:26:07.840000",
     "exception": false,
     "start_time": "2024-02-11T23:26:07.826805",
     "status": "completed"
    },
    "tags": []
   },
   "outputs": [],
   "source": [
    "parent_path = \"../real signatures/\""
   ]
  },
  {
   "cell_type": "code",
   "execution_count": 8,
   "id": "22afc7c5",
   "metadata": {
    "execution": {
     "iopub.execute_input": "2024-02-11T23:26:07.849767Z",
     "iopub.status.busy": "2024-02-11T23:26:07.849322Z",
     "iopub.status.idle": "2024-02-11T23:26:52.101285Z",
     "shell.execute_reply": "2024-02-11T23:26:52.099024Z"
    },
    "papermill": {
     "duration": 44.260015,
     "end_time": "2024-02-11T23:26:52.103985",
     "exception": false,
     "start_time": "2024-02-11T23:26:07.843970",
     "status": "completed"
    },
    "tags": []
   },
   "outputs": [
    {
     "name": "stdout",
     "output_type": "stream",
     "text": [
      "Iteration number 1\n",
      "All pairs shape: (552, 2, 150, 200)\n",
      "Labels shape: (552,)\n",
      "Iteration number 2\n",
      "All pairs shape: (552, 2, 150, 200)\n",
      "Labels shape: (552,)\n",
      "Iteration number 3\n",
      "All pairs shape: (552, 2, 150, 200)\n",
      "Labels shape: (552,)\n",
      "Iteration number 4\n",
      "All pairs shape: (552, 2, 150, 200)\n",
      "Labels shape: (552,)\n",
      "Iteration number 5\n",
      "All pairs shape: (552, 2, 150, 200)\n",
      "Labels shape: (552,)\n",
      "Iteration number 6\n",
      "All pairs shape: (552, 2, 150, 200)\n",
      "Labels shape: (552,)\n",
      "Iteration number 7\n",
      "All pairs shape: (552, 2, 150, 200)\n",
      "Labels shape: (552,)\n",
      "Iteration number 8\n",
      "All pairs shape: (552, 2, 150, 200)\n",
      "Labels shape: (552,)\n",
      "Iteration number 9\n",
      "All pairs shape: (552, 2, 150, 200)\n",
      "Labels shape: (552,)\n",
      "Iteration number 10\n",
      "All pairs shape: (552, 2, 150, 200)\n",
      "Labels shape: (552,)\n",
      "Iteration number 11\n",
      "All pairs shape: (552, 2, 150, 200)\n",
      "Labels shape: (552,)\n",
      "X shape : (6072, 2, 150, 200)\n",
      "y shape : (6072,)\n"
     ]
    }
   ],
   "source": [
    "X = np.empty((num_sig * 2 * 276, 2, height, width))\n",
    "y = np.empty((num_sig * 2 * 276))\n",
    "\n",
    "m = 0\n",
    "for ind in range(1, num_sig+1):\n",
    "\n",
    "    print(f\"Iteration number {m+1}\")\n",
    "    genuine = np.empty((24, height, width))\n",
    "    forged = np.empty((24, height, width))\n",
    "\n",
    "    path = parent_path + \"signatures_\" + str(ind)\n",
    "\n",
    "    i = 0\n",
    "    j = 0\n",
    "    for image in os.listdir(path):\n",
    "        image_path = os.path.join(path, image)\n",
    "        if os.path.isfile(image_path):\n",
    "          img = cv2.imread(image_path, cv2.IMREAD_GRAYSCALE)\n",
    "          img = 255 - img\n",
    "          img = cv2.resize(img, (width, height))\n",
    "          if i < 24 and image.startswith(\"original\"):\n",
    "            genuine[i] = img\n",
    "            i += 1\n",
    "          elif j < 24 and image.startswith(\"forgeries\"):\n",
    "            forged[j] = img\n",
    "            j += 1\n",
    "\n",
    "    #prepare_data(genuine, forged, X_train, y_train, m)\n",
    "    prepare_data(genuine, forged, X[m*552:(m+1)*552], y[m*552:(m+1)*552])\n",
    "    m += 1\n",
    "\n",
    "\n",
    "print(f\"X shape : {X.shape}\")\n",
    "print(f\"y shape : {y.shape}\")"
   ]
  },
  {
   "cell_type": "code",
   "execution_count": 9,
   "id": "04d842aa",
   "metadata": {
    "execution": {
     "iopub.execute_input": "2024-02-11T23:26:52.125555Z",
     "iopub.status.busy": "2024-02-11T23:26:52.125129Z",
     "iopub.status.idle": "2024-02-11T23:26:52.142383Z",
     "shell.execute_reply": "2024-02-11T23:26:52.141156Z"
    },
    "papermill": {
     "duration": 0.031928,
     "end_time": "2024-02-11T23:26:52.145622",
     "exception": false,
     "start_time": "2024-02-11T23:26:52.113694",
     "status": "completed"
    },
    "tags": []
   },
   "outputs": [],
   "source": [
    "def visualize(pairs, labels, to_show=6, num_col=3, predictions=None, test=False):\n",
    "    \"\"\"Creates a plot of pairs and labels, and prediction if it's test dataset.\n",
    "\n",
    "    Arguments:\n",
    "        pairs: Numpy Array, of pairs to visualize, having shape\n",
    "               (Number of pairs, 2, 28, 28).\n",
    "        to_show: Int, number of examples to visualize (default is 6)\n",
    "                `to_show` must be an integral multiple of `num_col`.\n",
    "                 Otherwise it will be trimmed if it is greater than num_col,\n",
    "                 and incremented if if it is less then num_col.\n",
    "        num_col: Int, number of images in one row - (default is 3)\n",
    "                 For test and train respectively, it should not exceed 3 and 7.\n",
    "        predictions: Numpy Array of predictions with shape (to_show, 1) -\n",
    "                     (default is None)\n",
    "                     Must be passed when test=True.\n",
    "        test: Boolean telling whether the dataset being visualized is\n",
    "              train dataset or test dataset - (default False).\n",
    "\n",
    "    Returns:\n",
    "        None.\n",
    "    \"\"\"\n",
    "\n",
    "    # Define num_row\n",
    "    # If to_show % num_col != 0\n",
    "    #    trim to_show,\n",
    "    #       to trim to_show limit num_row to the point where\n",
    "    #       to_show % num_col == 0\n",
    "    #\n",
    "    # If to_show//num_col == 0\n",
    "    #    then it means num_col is greater then to_show\n",
    "    #    increment to_show\n",
    "    #       to increment to_show set num_row to 1\n",
    "    num_row = to_show // num_col if to_show // num_col != 0 else 1\n",
    "\n",
    "    # `to_show` must be an integral multiple of `num_col`\n",
    "    #  we found num_row and we have num_col\n",
    "    #  to increment or decrement to_show\n",
    "    #  to make it integral multiple of `num_col`\n",
    "    #  simply set it equal to num_row * num_col\n",
    "    to_show = num_row * num_col\n",
    "\n",
    "    # Plot the images\n",
    "    fig, axes = plt.subplots(num_row, num_col, figsize=(5, 5))\n",
    "    \n",
    "    for i in range(to_show):\n",
    "        # If the number of rows is 1, the axes array is one-dimensional\n",
    "        if num_row == 1:\n",
    "            ax = axes[i % num_col]\n",
    "        else:\n",
    "            ax = axes[i // num_col, i % num_col]\n",
    "        \n",
    "        n = random.randint(0, pairs.shape[0])\n",
    "        print(f\"Index to show: {n}\")\n",
    "        ax.imshow(np.concatenate([pairs[n][0], pairs[n][1]], axis=1), cmap=\"gray\")\n",
    "        ax.set_axis_off()\n",
    "        if test:\n",
    "            ax.set_title(\"True: {} | Pred: {:.5f}\".format(labels[n], predictions[n][0]))\n",
    "        else:\n",
    "            ax.set_title(\"Label: {}\".format(labels[n]))\n",
    "    if test:\n",
    "        plt.tight_layout(rect=(0, 0, 1.9, 1.9), w_pad=0.0)\n",
    "    else:\n",
    "        plt.tight_layout(rect=(0, 0, 1.5, 1.5))\n",
    "    plt.show()"
   ]
  },
  {
   "cell_type": "code",
   "execution_count": 10,
   "id": "9b41d8c0",
   "metadata": {
    "execution": {
     "iopub.execute_input": "2024-02-11T23:26:52.170222Z",
     "iopub.status.busy": "2024-02-11T23:26:52.169831Z",
     "iopub.status.idle": "2024-02-11T23:26:52.621936Z",
     "shell.execute_reply": "2024-02-11T23:26:52.620773Z"
    },
    "papermill": {
     "duration": 0.465548,
     "end_time": "2024-02-11T23:26:52.624517",
     "exception": false,
     "start_time": "2024-02-11T23:26:52.158969",
     "status": "completed"
    },
    "tags": []
   },
   "outputs": [
    {
     "name": "stdout",
     "output_type": "stream",
     "text": [
      "Index to show: 5345\n",
      "Index to show: 3655\n",
      "Index to show: 682\n",
      "Index to show: 2864\n"
     ]
    },
    {
     "data": {
      "image/png": "[encoded data removed]",
      "text/plain": [
       "<Figure size 500x500 with 4 Axes>"
      ]
     },
     "metadata": {},
     "output_type": "display_data"
    }
   ],
   "source": [
    "visualize(X[:-1], y[:-1], to_show = 4, num_col = 4)"
   ]
  },
  {
   "cell_type": "code",
   "execution_count": null,
   "id": "9c33a72c",
   "metadata": {
    "execution": {
     "iopub.execute_input": "2024-02-11T23:26:52.647797Z",
     "iopub.status.busy": "2024-02-11T23:26:52.646946Z",
     "iopub.status.idle": "2024-02-11T23:27:47.148024Z",
     "shell.execute_reply": "2024-02-11T23:27:47.137379Z"
    },
    "papermill": {
     "duration": 54.528816,
     "end_time": "2024-02-11T23:27:47.164233",
     "exception": false,
     "start_time": "2024-02-11T23:26:52.635417",
     "status": "completed"
    },
    "tags": []
   },
   "outputs": [],
   "source": [
    "np.save(\"X_test_siam.npy\", X)"
   ]
  },
  {
   "cell_type": "code",
   "execution_count": 12,
   "id": "72637df7",
   "metadata": {
    "execution": {
     "iopub.execute_input": "2024-02-11T23:27:47.501191Z",
     "iopub.status.busy": "2024-02-11T23:27:47.499855Z",
     "iopub.status.idle": "2024-02-11T23:27:47.522542Z",
     "shell.execute_reply": "2024-02-11T23:27:47.519101Z"
    },
    "papermill": {
     "duration": 0.31995,
     "end_time": "2024-02-11T23:27:47.527411",
     "exception": false,
     "start_time": "2024-02-11T23:27:47.207461",
     "status": "completed"
    },
    "tags": []
   },
   "outputs": [],
   "source": [
    "np.save(\"y_test_siam.npy\", y)"
   ]
  }
 ],
 "metadata": {
  "kaggle": {
   "accelerator": "none",
   "dataSources": [
    {
     "datasetId": 4415132,
     "sourceId": 7584861,
     "sourceType": "datasetVersion"
    }
   ],
   "dockerImageVersionId": 30646,
   "isGpuEnabled": false,
   "isInternetEnabled": true,
   "language": "python",
   "sourceType": "notebook"
  },
  "kernelspec": {
   "display_name": "Python 3",
   "language": "python",
   "name": "python3"
  },
  "language_info": {
   "codemirror_mode": {
    "name": "ipython",
    "version": 3
   },
   "file_extension": ".py",
   "mimetype": "text/x-python",
   "name": "python",
   "nbconvert_exporter": "python",
   "pygments_lexer": "ipython3",
   "version": "3.10.11"
  },
  "papermill": {
   "default_parameters": {},
   "duration": 104.164416,
   "end_time": "2024-02-11T23:27:48.505615",
   "environment_variables": {},
   "exception": null,
   "input_path": "__notebook__.ipynb",
   "output_path": "__notebook__.ipynb",
   "parameters": {},
   "start_time": "2024-02-11T23:26:04.341199",
   "version": "2.5.0"
  }
 },
 "nbformat": 4,
 "nbformat_minor": 5
}
